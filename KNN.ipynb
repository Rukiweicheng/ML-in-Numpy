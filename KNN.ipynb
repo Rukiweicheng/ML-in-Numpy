{
 "cells": [
  {
   "cell_type": "markdown",
   "metadata": {
    "toc": true
   },
   "source": [
    "<h1>Table of Contents<span class=\"tocSkip\"></span></h1>\n",
    "<div class=\"toc\"><ul class=\"toc-item\"><li><span><a href=\"#K-Nearst-Neighbor-(KNN)\" data-toc-modified-id=\"K-Nearst-Neighbor-(KNN)-1\"><span class=\"toc-item-num\">1&nbsp;&nbsp;</span>K Nearst Neighbor (KNN)</a></span><ul class=\"toc-item\"><li><span><a href=\"#Euclidean-distance\" data-toc-modified-id=\"Euclidean-distance-1.1\"><span class=\"toc-item-num\">1.1&nbsp;&nbsp;</span>Euclidean distance</a></span></li><li><span><a href=\"#Prediction\" data-toc-modified-id=\"Prediction-1.2\"><span class=\"toc-item-num\">1.2&nbsp;&nbsp;</span>Prediction</a></span></li><li><span><a href=\"#Testing\" data-toc-modified-id=\"Testing-1.3\"><span class=\"toc-item-num\">1.3&nbsp;&nbsp;</span>Testing</a></span></li></ul></li></ul></div>"
   ]
  },
  {
   "cell_type": "markdown",
   "metadata": {},
   "source": [
    "Author: Weicheng Zhang\n",
    "\n",
    "Date: 09/14/2019"
   ]
  },
  {
   "cell_type": "markdown",
   "metadata": {},
   "source": [
    "# K Nearst Neighbor (KNN)\n",
    "## Euclidean distance"
   ]
  },
  {
   "cell_type": "code",
   "execution_count": null,
   "metadata": {},
   "outputs": [],
   "source": [
    "import numpy as np\n",
    "import matplotlib.pyplot as plt"
   ]
  },
  {
   "cell_type": "code",
   "execution_count": 3,
   "metadata": {
    "ExecuteTime": {
     "end_time": "2019-09-14T18:24:25.250889Z",
     "start_time": "2019-09-14T18:24:25.247403Z"
    }
   },
   "outputs": [],
   "source": [
    "def euclidean_distance(x1,x2):\n",
    "    return np.sqrt(np.power((x1-x2),2).sum(axis=1))"
   ]
  },
  {
   "cell_type": "markdown",
   "metadata": {},
   "source": [
    "## Prediction"
   ]
  },
  {
   "cell_type": "code",
   "execution_count": 4,
   "metadata": {
    "ExecuteTime": {
     "end_time": "2019-09-14T18:24:50.118641Z",
     "start_time": "2019-09-14T18:24:50.112688Z"
    }
   },
   "outputs": [],
   "source": [
    "def knn_predict(X_train,y_train,X_test,k,classification=True):\n",
    "    pred = []\n",
    "    for i in range(len(X_test)): # For each row in test data, calculate distance with rows in training data\n",
    "        dist = euclidean_distance(X_train, X_test[i]) \n",
    "        sorted_dist = dist.argsort()[:k] # Return indices of nearst K neighbors\n",
    "        \n",
    "        if classification: # use marjority vote to predict the class\n",
    "            classVote = {}  # store class label and corresponding counts    \n",
    "            for i in range(k):\n",
    "                label = y_train[sorted_dist[i]]\n",
    "                if label in classVote:\n",
    "                    classVote[label] =+ 1\n",
    "                else:\n",
    "                    classVote[label] = 1\n",
    "            \n",
    "            # Sort classes by counts\n",
    "            sorted_classVote = sorted(classVote.items(), key=lambda kv: kv[1],reverse=True)\n",
    "            pred.append(sorted_classVote[0][0])\n",
    "            \n",
    "        else: # for regression problem, take the average of nearst k neighbors\n",
    "            classMean=[]\n",
    "            for i in range(k):\n",
    "                classMean.append(y_train[sorted_dist[i]])\n",
    "            pred.append(np.mean(classMean))        \n",
    "            \n",
    "    return pred"
   ]
  },
  {
   "cell_type": "markdown",
   "metadata": {
    "ExecuteTime": {
     "end_time": "2019-09-14T18:25:28.928392Z",
     "start_time": "2019-09-14T18:25:28.925607Z"
    }
   },
   "source": [
    "## Testing"
   ]
  },
  {
   "cell_type": "code",
   "execution_count": 6,
   "metadata": {
    "ExecuteTime": {
     "end_time": "2019-09-14T18:25:47.145675Z",
     "start_time": "2019-09-14T18:25:47.073585Z"
    }
   },
   "outputs": [
    {
     "data": {
      "text/plain": [
       "[1.0, 1.0, 0.0, 1.0, 1.0, 1.0, 0.0, 1.0, 0.0, 1.0]"
      ]
     },
     "execution_count": 6,
     "metadata": {},
     "output_type": "execute_result"
    }
   ],
   "source": [
    "data = np.loadtxt(\"ex2data1.txt\", delimiter = ',')\n",
    "X,y = data[:,:-1], data[:,-1]\n",
    "m,n = data.shape\n",
    "X = np.hstack((np.ones((m,1)),X))\n",
    "y = y[:,np.newaxis]\n",
    "theta = np.zeros((1,n))\n",
    "\n",
    "knn_predict(X[:20],y[:20].flatten(),X[-10:],3)"
   ]
  },
  {
   "cell_type": "code",
   "execution_count": null,
   "metadata": {},
   "outputs": [],
   "source": []
  }
 ],
 "metadata": {
  "kernelspec": {
   "display_name": "Python 3",
   "language": "python",
   "name": "python3"
  },
  "language_info": {
   "codemirror_mode": {
    "name": "ipython",
    "version": 3
   },
   "file_extension": ".py",
   "mimetype": "text/x-python",
   "name": "python",
   "nbconvert_exporter": "python",
   "pygments_lexer": "ipython3",
   "version": "3.6.8"
  },
  "toc": {
   "base_numbering": 1,
   "nav_menu": {},
   "number_sections": true,
   "sideBar": true,
   "skip_h1_title": false,
   "title_cell": "Table of Contents",
   "title_sidebar": "Contents",
   "toc_cell": true,
   "toc_position": {},
   "toc_section_display": true,
   "toc_window_display": false
  },
  "varInspector": {
   "cols": {
    "lenName": 16,
    "lenType": 16,
    "lenVar": 40
   },
   "kernels_config": {
    "python": {
     "delete_cmd_postfix": "",
     "delete_cmd_prefix": "del ",
     "library": "var_list.py",
     "varRefreshCmd": "print(var_dic_list())"
    },
    "r": {
     "delete_cmd_postfix": ") ",
     "delete_cmd_prefix": "rm(",
     "library": "var_list.r",
     "varRefreshCmd": "cat(var_dic_list()) "
    }
   },
   "types_to_exclude": [
    "module",
    "function",
    "builtin_function_or_method",
    "instance",
    "_Feature"
   ],
   "window_display": false
  }
 },
 "nbformat": 4,
 "nbformat_minor": 2
}
