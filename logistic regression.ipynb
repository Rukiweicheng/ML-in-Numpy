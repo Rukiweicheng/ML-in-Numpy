{
 "cells": [
  {
   "cell_type": "markdown",
   "metadata": {
    "toc": true
   },
   "source": [
    "<h1>Table of Contents<span class=\"tocSkip\"></span></h1>\n",
    "<div class=\"toc\"><ul class=\"toc-item\"><li><span><a href=\"#Logistic-Regression\" data-toc-modified-id=\"Logistic-Regression-1\"><span class=\"toc-item-num\">1&nbsp;&nbsp;</span>Logistic Regression</a></span><ul class=\"toc-item\"><li><span><a href=\"#Sigmoid-Function\" data-toc-modified-id=\"Sigmoid-Function-1.1\"><span class=\"toc-item-num\">1.1&nbsp;&nbsp;</span>Sigmoid Function</a></span></li><li><span><a href=\"#Cost-Function\" data-toc-modified-id=\"Cost-Function-1.2\"><span class=\"toc-item-num\">1.2&nbsp;&nbsp;</span>Cost Function</a></span></li><li><span><a href=\"#Optimize-cost-function-using-gradient-descent\" data-toc-modified-id=\"Optimize-cost-function-using-gradient-descent-1.3\"><span class=\"toc-item-num\">1.3&nbsp;&nbsp;</span>Optimize cost function using gradient descent</a></span></li><li><span><a href=\"#Test\" data-toc-modified-id=\"Test-1.4\"><span class=\"toc-item-num\">1.4&nbsp;&nbsp;</span>Test</a></span></li></ul></li></ul></div>"
   ]
  },
  {
   "cell_type": "markdown",
   "metadata": {
    "ExecuteTime": {
     "end_time": "2019-09-14T18:38:53.649317Z",
     "start_time": "2019-09-14T18:38:53.646088Z"
    }
   },
   "source": [
    "Author: Weicheng Zhang\n",
    "\n",
    "Date: 09/14/2019"
   ]
  },
  {
   "cell_type": "code",
   "execution_count": null,
   "metadata": {},
   "outputs": [],
   "source": [
    "import numpy as np\n",
    "import matplotlib.pyplot as plt"
   ]
  },
  {
   "cell_type": "markdown",
   "metadata": {},
   "source": [
    "# Logistic Regression\n",
    "## Sigmoid Function"
   ]
  },
  {
   "cell_type": "code",
   "execution_count": 7,
   "metadata": {
    "ExecuteTime": {
     "end_time": "2019-09-14T18:32:01.701876Z",
     "start_time": "2019-09-14T18:32:01.698814Z"
    }
   },
   "outputs": [],
   "source": [
    "def sigmoid(z):\n",
    "    return 1 / (1 + np.exp(-z))"
   ]
  },
  {
   "cell_type": "markdown",
   "metadata": {
    "ExecuteTime": {
     "end_time": "2019-09-14T18:28:36.050795Z",
     "start_time": "2019-09-14T18:28:36.047798Z"
    }
   },
   "source": [
    "## Cost Function"
   ]
  },
  {
   "cell_type": "code",
   "execution_count": 9,
   "metadata": {
    "ExecuteTime": {
     "end_time": "2019-09-14T18:32:07.548133Z",
     "start_time": "2019-09-14T18:32:07.544729Z"
    }
   },
   "outputs": [],
   "source": [
    "def costFunction(theta,X,y):\n",
    "    h = sigmoid(np.dot(X,theta.T)) # Hypothesis function\n",
    "    j = (np.dot((-y).T, np.log(h)) - np.dot((1-y).T, np.log(1-h)))/m # cost of entire data set\n",
    "    return j"
   ]
  },
  {
   "cell_type": "markdown",
   "metadata": {},
   "source": [
    "## Optimize cost function using gradient descent"
   ]
  },
  {
   "cell_type": "code",
   "execution_count": 10,
   "metadata": {
    "ExecuteTime": {
     "end_time": "2019-09-14T18:32:09.520658Z",
     "start_time": "2019-09-14T18:32:09.515957Z"
    }
   },
   "outputs": [],
   "source": [
    "def gradient(theta, X,y):\n",
    "    h = sigmoid(np.dot(X,theta.T))\n",
    "    return ((1/m) * np.dot(X.T,(h-y))) # First order derivative of cost function\n",
    "\n",
    "from scipy import optimize\n",
    "def optimizeTheta(theta, X,y):\n",
    "    \"\"\"\n",
    "    Minimize cost function  using truncated Newton algorithm\n",
    "    \"\"\"\n",
    "    result = optimize.fmin_tnc(func = costFunction, x0=theta, fprime = gradient, \n",
    "                            args=(X, y.flatten()))\n",
    "    return result[0]"
   ]
  },
  {
   "cell_type": "markdown",
   "metadata": {},
   "source": [
    "## Test"
   ]
  },
  {
   "cell_type": "code",
   "execution_count": 11,
   "metadata": {
    "ExecuteTime": {
     "end_time": "2019-09-14T18:32:11.624567Z",
     "start_time": "2019-09-14T18:32:11.238909Z"
    }
   },
   "outputs": [
    {
     "data": {
      "text/plain": [
       "Text(0, 0.5, 'Exam 2 Score')"
      ]
     },
     "execution_count": 11,
     "metadata": {},
     "output_type": "execute_result"
    },
    {
     "data": {
      "image/png": "[encoded data removed]",
      "text/plain": [
       "<Figure size 432x288 with 1 Axes>"
      ]
     },
     "metadata": {},
     "output_type": "display_data"
    }
   ],
   "source": [
    "data = np.loadtxt(\"ex2data1.txt\", delimiter = ',')\n",
    "X,y = data[:,:-1], data[:,-1]\n",
    "m,n = data.shape\n",
    "X = np.hstack((np.ones((m,1)),X))\n",
    "y = y[:,np.newaxis]\n",
    "theta = np.zeros((1,n))\n",
    "\n",
    "#Divide the sample into two: ones with positive classification, one with null classification\n",
    "pos = np.array([X[i] for i in range(X.shape[0]) if y[i] == 1])\n",
    "neg = np.array([X[i] for i in range(X.shape[0]) if y[i] == 0])\n",
    "\n",
    "def plotData(X,y):\n",
    "    fig = plt.figure()\n",
    "    plt.plot(pos[:, 1], pos[:, 2], '*', ms=10, label = \"admitted\") # x=exam 1 score\n",
    "    plt.plot(neg[:, 1], neg[:, 2], 'o',ms=8, label=\"unadmitted\") # y = exam 2 score\n",
    "    plt.legend()\n",
    "\n",
    "plotData(X, y)\n",
    "plt.xlabel(\"Exam 1 Score\")\n",
    "plt.ylabel(\"Exam 2 Score\")"
   ]
  },
  {
   "cell_type": "code",
   "execution_count": 13,
   "metadata": {
    "ExecuteTime": {
     "end_time": "2019-09-14T18:33:04.255737Z",
     "start_time": "2019-09-14T18:33:04.248610Z"
    }
   },
   "outputs": [
    {
     "name": "stdout",
     "output_type": "stream",
     "text": [
      "Accuracy is 0.89\n"
     ]
    }
   ],
   "source": [
    "optimizedTheta = optimizeTheta(theta, X, y)\n",
    "pred = sigmoid(np.dot(X, optimizedTheta.T)) >= 0.5\n",
    "print(\"Accuracy is {}\".format(np.sum(pred == y.flatten()) / m))"
   ]
  },
  {
   "cell_type": "code",
   "execution_count": null,
   "metadata": {},
   "outputs": [],
   "source": []
  }
 ],
 "metadata": {
  "kernelspec": {
   "display_name": "Python 3",
   "language": "python",
   "name": "python3"
  },
  "language_info": {
   "codemirror_mode": {
    "name": "ipython",
    "version": 3
   },
   "file_extension": ".py",
   "mimetype": "text/x-python",
   "name": "python",
   "nbconvert_exporter": "python",
   "pygments_lexer": "ipython3",
   "version": "3.6.8"
  },
  "toc": {
   "base_numbering": 1,
   "nav_menu": {},
   "number_sections": true,
   "sideBar": true,
   "skip_h1_title": false,
   "title_cell": "Table of Contents",
   "title_sidebar": "Contents",
   "toc_cell": true,
   "toc_position": {},
   "toc_section_display": true,
   "toc_window_display": false
  },
  "varInspector": {
   "cols": {
    "lenName": 16,
    "lenType": 16,
    "lenVar": 40
   },
   "kernels_config": {
    "python": {
     "delete_cmd_postfix": "",
     "delete_cmd_prefix": "del ",
     "library": "var_list.py",
     "varRefreshCmd": "print(var_dic_list())"
    },
    "r": {
     "delete_cmd_postfix": ") ",
     "delete_cmd_prefix": "rm(",
     "library": "var_list.r",
     "varRefreshCmd": "cat(var_dic_list()) "
    }
   },
   "types_to_exclude": [
    "module",
    "function",
    "builtin_function_or_method",
    "instance",
    "_Feature"
   ],
   "window_display": false
  }
 },
 "nbformat": 4,
 "nbformat_minor": 2
}
